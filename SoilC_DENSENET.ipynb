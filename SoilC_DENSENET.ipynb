{
 "cells": [
  {
   "cell_type": "code",
   "execution_count": 1,
   "id": "17a4d427-405d-4142-9670-c473a5e81e35",
   "metadata": {},
   "outputs": [],
   "source": [
    "import tensorflow as tf\n",
    "from tensorflow.keras.applications import DenseNet121\n",
    "from tensorflow.keras import layers, models\n",
    "from tensorflow.keras.preprocessing.image import ImageDataGenerator\n",
    "import os"
   ]
  },
  {
   "cell_type": "code",
   "execution_count": 2,
   "id": "f50ed87a-6943-40b5-a4e5-cc763da2e3bf",
   "metadata": {},
   "outputs": [
    {
     "name": "stdout",
     "output_type": "stream",
     "text": [
      "tf.Tensor([[14.]], shape=(1, 1), dtype=float32)\n"
     ]
    }
   ],
   "source": [
    "with tf.device('/GPU:0'):\n",
    "               a = tf.constant([[1.0,2.0,3.0]])\n",
    "               b = tf.constant([[1.0], [2.0], [3.0]])\n",
    "               result = tf.matmul(a, b)\n",
    "print(result)"
   ]
  },
  {
   "cell_type": "code",
   "execution_count": 3,
   "id": "b604da8b-db2b-48b9-9e75-b9b1b169c5d5",
   "metadata": {},
   "outputs": [
    {
     "name": "stdout",
     "output_type": "stream",
     "text": [
      "\n",
      "Num GPUs Available:  0\n",
      "2.17.0\n"
     ]
    }
   ],
   "source": [
    "os.environ['TF_CPP_MIN_LOG_LEVEL'] = '2'\n",
    "print(tf.test.gpu_device_name())\n",
    "print(\"Num GPUs Available: \",len(tf.config.list_physical_devices('GPU')))\n",
    "print(tf.__version__)"
   ]
  },
  {
   "cell_type": "code",
   "execution_count": 4,
   "id": "db27512c-91a0-421e-8a97-cf07056f8b5a",
   "metadata": {},
   "outputs": [],
   "source": [
    "data_dir = 'C:/Users/mauli/Desktop/SOIL CLASSIFICATION DATA/MAIN/train'"
   ]
  },
  {
   "cell_type": "code",
   "execution_count": 5,
   "id": "9462f1ae-5ff5-4f04-8fda-6c8f072e5916",
   "metadata": {
    "scrolled": true
   },
   "outputs": [
    {
     "name": "stdout",
     "output_type": "stream",
     "text": [
      "Found 6146 images belonging to 8 classes.\n",
      "Found 1532 images belonging to 8 classes.\n"
     ]
    }
   ],
   "source": [
    "datagen = ImageDataGenerator(\n",
    "    rescale = 1./255,\n",
    "    validation_split = 0.2,\n",
    "    horizontal_flip = False,\n",
    "    zoom_range = 0.2,\n",
    "    shear_range = 0.2,\n",
    ")\n",
    "\n",
    "train_generator =datagen.flow_from_directory(\n",
    "    data_dir,\n",
    "    target_size = (224, 224),\n",
    "    batch_size =32,\n",
    "    class_mode = 'categorical',\n",
    "    subset = 'training'\n",
    ")\n",
    "\n",
    "validation_generator = datagen.flow_from_directory(\n",
    "    data_dir,\n",
    "    target_size = (224, 224),\n",
    "    batch_size =32,\n",
    "    class_mode = 'categorical',\n",
    "    subset = 'validation'\n",
    ")"
   ]
  },
  {
   "cell_type": "code",
   "execution_count": 6,
   "id": "6ae10ceb-54d6-4aef-957a-bcc0223e210a",
   "metadata": {},
   "outputs": [],
   "source": [
    " # Load the DenseNet121 model without the top fully connected layers\n",
    "base_model = DenseNet121(weights='imagenet', include_top=False, input_shape=(224, 224, 3))\n",
    "\n",
    "# Freeze the convolutional base\n",
    "for layer in base_model.layers:\n",
    "    layer.trainable = False"
   ]
  },
  {
   "cell_type": "code",
   "execution_count": 7,
   "id": "d4f89f29-400b-45a7-9dfb-0af446f33894",
   "metadata": {},
   "outputs": [],
   "source": [
    "# Add custom layers on top of the base model\n",
    "model = models.Sequential([\n",
    "    base_model,  \n",
    "\n",
    "    layers.Flatten(),\n",
    "    \n",
    "    layers.Dense(512, activation='relu'),\n",
    "    layers.Dropout(0.2),\n",
    "    layers.Dense(8, activation='softmax')\n",
    "])"
   ]
  },
  {
   "cell_type": "code",
   "execution_count": 8,
   "id": "3fdf78cb-24e8-4a98-b37d-1ccb785e4adf",
   "metadata": {},
   "outputs": [],
   "source": [
    "model.compile(optimizer='adam',\n",
    "              loss='categorical_crossentropy',\n",
    "              metrics=['accuracy'])"
   ]
  },
  {
   "cell_type": "code",
   "execution_count": 9,
   "id": "b778edc6-0429-4951-b91f-695ca9167b27",
   "metadata": {},
   "outputs": [
    {
     "name": "stdout",
     "output_type": "stream",
     "text": [
      "Epoch 1/100\n"
     ]
    },
    {
     "name": "stderr",
     "output_type": "stream",
     "text": [
      "C:\\Users\\mauli\\Desktop\\python_env\\Lib\\site-packages\\keras\\src\\trainers\\data_adapters\\py_dataset_adapter.py:122: UserWarning: Your `PyDataset` class should call `super().__init__(**kwargs)` in its constructor. `**kwargs` can include `workers`, `use_multiprocessing`, `max_queue_size`. Do not pass these arguments to `fit()`, as they will be ignored.\n",
      "  self._warn_if_super_not_called()\n"
     ]
    },
    {
     "name": "stdout",
     "output_type": "stream",
     "text": [
      "\u001b[1m193/193\u001b[0m \u001b[32m━━━━━━━━━━━━━━━━━━━━\u001b[0m\u001b[37m\u001b[0m \u001b[1m647s\u001b[0m 3s/step - accuracy: 0.6550 - loss: 6.6358 - val_accuracy: 0.8388 - val_loss: 0.6669\n",
      "Epoch 2/100\n",
      "\u001b[1m193/193\u001b[0m \u001b[32m━━━━━━━━━━━━━━━━━━━━\u001b[0m\u001b[37m\u001b[0m \u001b[1m507s\u001b[0m 3s/step - accuracy: 0.8899 - loss: 0.3682 - val_accuracy: 0.8440 - val_loss: 0.6925\n",
      "Epoch 3/100\n",
      "\u001b[1m193/193\u001b[0m \u001b[32m━━━━━━━━━━━━━━━━━━━━\u001b[0m\u001b[37m\u001b[0m \u001b[1m505s\u001b[0m 3s/step - accuracy: 0.9173 - loss: 0.2738 - val_accuracy: 0.8584 - val_loss: 0.6826\n",
      "Epoch 4/100\n",
      "\u001b[1m193/193\u001b[0m \u001b[32m━━━━━━━━━━━━━━━━━━━━\u001b[0m\u001b[37m\u001b[0m \u001b[1m521s\u001b[0m 3s/step - accuracy: 0.9231 - loss: 0.2495 - val_accuracy: 0.8244 - val_loss: 0.7916\n",
      "Epoch 5/100\n",
      "\u001b[1m193/193\u001b[0m \u001b[32m━━━━━━━━━━━━━━━━━━━━\u001b[0m\u001b[37m\u001b[0m \u001b[1m523s\u001b[0m 3s/step - accuracy: 0.9235 - loss: 0.2331 - val_accuracy: 0.8577 - val_loss: 0.6988\n",
      "Epoch 6/100\n",
      "\u001b[1m193/193\u001b[0m \u001b[32m━━━━━━━━━━━━━━━━━━━━\u001b[0m\u001b[37m\u001b[0m \u001b[1m503s\u001b[0m 3s/step - accuracy: 0.9406 - loss: 0.1784 - val_accuracy: 0.8753 - val_loss: 0.7366\n",
      "Epoch 7/100\n",
      "\u001b[1m193/193\u001b[0m \u001b[32m━━━━━━━━━━━━━━━━━━━━\u001b[0m\u001b[37m\u001b[0m \u001b[1m516s\u001b[0m 3s/step - accuracy: 0.9370 - loss: 0.1951 - val_accuracy: 0.8531 - val_loss: 0.6465\n",
      "Epoch 8/100\n",
      "\u001b[1m193/193\u001b[0m \u001b[32m━━━━━━━━━━━━━━━━━━━━\u001b[0m\u001b[37m\u001b[0m \u001b[1m515s\u001b[0m 3s/step - accuracy: 0.9506 - loss: 0.1600 - val_accuracy: 0.8877 - val_loss: 0.5892\n",
      "Epoch 9/100\n",
      "\u001b[1m193/193\u001b[0m \u001b[32m━━━━━━━━━━━━━━━━━━━━\u001b[0m\u001b[37m\u001b[0m \u001b[1m523s\u001b[0m 3s/step - accuracy: 0.9543 - loss: 0.1384 - val_accuracy: 0.8688 - val_loss: 0.6633\n",
      "Epoch 10/100\n",
      "\u001b[1m193/193\u001b[0m \u001b[32m━━━━━━━━━━━━━━━━━━━━\u001b[0m\u001b[37m\u001b[0m \u001b[1m522s\u001b[0m 3s/step - accuracy: 0.9587 - loss: 0.1275 - val_accuracy: 0.8675 - val_loss: 0.8380\n",
      "Epoch 11/100\n",
      "\u001b[1m193/193\u001b[0m \u001b[32m━━━━━━━━━━━━━━━━━━━━\u001b[0m\u001b[37m\u001b[0m \u001b[1m511s\u001b[0m 3s/step - accuracy: 0.9552 - loss: 0.1399 - val_accuracy: 0.8832 - val_loss: 0.7334\n",
      "Epoch 12/100\n",
      "\u001b[1m193/193\u001b[0m \u001b[32m━━━━━━━━━━━━━━━━━━━━\u001b[0m\u001b[37m\u001b[0m \u001b[1m521s\u001b[0m 3s/step - accuracy: 0.9592 - loss: 0.1240 - val_accuracy: 0.8584 - val_loss: 0.7863\n",
      "Epoch 13/100\n",
      "\u001b[1m193/193\u001b[0m \u001b[32m━━━━━━━━━━━━━━━━━━━━\u001b[0m\u001b[37m\u001b[0m \u001b[1m516s\u001b[0m 3s/step - accuracy: 0.9432 - loss: 0.1744 - val_accuracy: 0.8819 - val_loss: 0.6735\n",
      "Epoch 14/100\n",
      "\u001b[1m193/193\u001b[0m \u001b[32m━━━━━━━━━━━━━━━━━━━━\u001b[0m\u001b[37m\u001b[0m \u001b[1m519s\u001b[0m 3s/step - accuracy: 0.9515 - loss: 0.1490 - val_accuracy: 0.8858 - val_loss: 0.5807\n",
      "Epoch 15/100\n",
      "\u001b[1m193/193\u001b[0m \u001b[32m━━━━━━━━━━━━━━━━━━━━\u001b[0m\u001b[37m\u001b[0m \u001b[1m488s\u001b[0m 3s/step - accuracy: 0.9563 - loss: 0.1288 - val_accuracy: 0.8962 - val_loss: 0.7961\n",
      "Epoch 16/100\n",
      "\u001b[1m193/193\u001b[0m \u001b[32m━━━━━━━━━━━━━━━━━━━━\u001b[0m\u001b[37m\u001b[0m \u001b[1m497s\u001b[0m 3s/step - accuracy: 0.9565 - loss: 0.1349 - val_accuracy: 0.8779 - val_loss: 0.8299\n",
      "Epoch 17/100\n",
      "\u001b[1m193/193\u001b[0m \u001b[32m━━━━━━━━━━━━━━━━━━━━\u001b[0m\u001b[37m\u001b[0m \u001b[1m517s\u001b[0m 3s/step - accuracy: 0.9518 - loss: 0.1427 - val_accuracy: 0.8930 - val_loss: 0.6220\n",
      "Epoch 18/100\n",
      "\u001b[1m193/193\u001b[0m \u001b[32m━━━━━━━━━━━━━━━━━━━━\u001b[0m\u001b[37m\u001b[0m \u001b[1m515s\u001b[0m 3s/step - accuracy: 0.9585 - loss: 0.1257 - val_accuracy: 0.9027 - val_loss: 0.7147\n",
      "Epoch 19/100\n",
      "\u001b[1m193/193\u001b[0m \u001b[32m━━━━━━━━━━━━━━━━━━━━\u001b[0m\u001b[37m\u001b[0m \u001b[1m527s\u001b[0m 3s/step - accuracy: 0.9661 - loss: 0.1096 - val_accuracy: 0.8668 - val_loss: 0.9041\n",
      "Epoch 20/100\n",
      "\u001b[1m193/193\u001b[0m \u001b[32m━━━━━━━━━━━━━━━━━━━━\u001b[0m\u001b[37m\u001b[0m \u001b[1m517s\u001b[0m 3s/step - accuracy: 0.9608 - loss: 0.1339 - val_accuracy: 0.8995 - val_loss: 0.6606\n",
      "Epoch 21/100\n",
      "\u001b[1m193/193\u001b[0m \u001b[32m━━━━━━━━━━━━━━━━━━━━\u001b[0m\u001b[37m\u001b[0m \u001b[1m526s\u001b[0m 3s/step - accuracy: 0.9630 - loss: 0.1104 - val_accuracy: 0.8956 - val_loss: 0.7991\n",
      "Epoch 22/100\n",
      "\u001b[1m193/193\u001b[0m \u001b[32m━━━━━━━━━━━━━━━━━━━━\u001b[0m\u001b[37m\u001b[0m \u001b[1m574s\u001b[0m 3s/step - accuracy: 0.9642 - loss: 0.1203 - val_accuracy: 0.9014 - val_loss: 0.7741\n",
      "Epoch 23/100\n",
      "\u001b[1m193/193\u001b[0m \u001b[32m━━━━━━━━━━━━━━━━━━━━\u001b[0m\u001b[37m\u001b[0m \u001b[1m531s\u001b[0m 3s/step - accuracy: 0.9629 - loss: 0.1018 - val_accuracy: 0.8851 - val_loss: 0.9452\n",
      "Epoch 24/100\n",
      "\u001b[1m193/193\u001b[0m \u001b[32m━━━━━━━━━━━━━━━━━━━━\u001b[0m\u001b[37m\u001b[0m \u001b[1m533s\u001b[0m 3s/step - accuracy: 0.9668 - loss: 0.0968 - val_accuracy: 0.8838 - val_loss: 0.6924\n",
      "Epoch 25/100\n",
      "\u001b[1m193/193\u001b[0m \u001b[32m━━━━━━━━━━━━━━━━━━━━\u001b[0m\u001b[37m\u001b[0m \u001b[1m509s\u001b[0m 3s/step - accuracy: 0.9680 - loss: 0.1015 - val_accuracy: 0.8858 - val_loss: 0.6910\n",
      "Epoch 26/100\n",
      "\u001b[1m193/193\u001b[0m \u001b[32m━━━━━━━━━━━━━━━━━━━━\u001b[0m\u001b[37m\u001b[0m \u001b[1m510s\u001b[0m 3s/step - accuracy: 0.9692 - loss: 0.0921 - val_accuracy: 0.8897 - val_loss: 0.7670\n",
      "Epoch 27/100\n",
      "\u001b[1m193/193\u001b[0m \u001b[32m━━━━━━━━━━━━━━━━━━━━\u001b[0m\u001b[37m\u001b[0m \u001b[1m507s\u001b[0m 3s/step - accuracy: 0.9651 - loss: 0.1081 - val_accuracy: 0.8969 - val_loss: 0.7520\n",
      "Epoch 28/100\n",
      "\u001b[1m193/193\u001b[0m \u001b[32m━━━━━━━━━━━━━━━━━━━━\u001b[0m\u001b[37m\u001b[0m \u001b[1m527s\u001b[0m 3s/step - accuracy: 0.9643 - loss: 0.1200 - val_accuracy: 0.9021 - val_loss: 0.6966\n",
      "Epoch 29/100\n",
      "\u001b[1m193/193\u001b[0m \u001b[32m━━━━━━━━━━━━━━━━━━━━\u001b[0m\u001b[37m\u001b[0m \u001b[1m529s\u001b[0m 3s/step - accuracy: 0.9667 - loss: 0.0984 - val_accuracy: 0.8910 - val_loss: 0.7645\n",
      "Epoch 30/100\n",
      "\u001b[1m193/193\u001b[0m \u001b[32m━━━━━━━━━━━━━━━━━━━━\u001b[0m\u001b[37m\u001b[0m \u001b[1m508s\u001b[0m 3s/step - accuracy: 0.9764 - loss: 0.0792 - val_accuracy: 0.8897 - val_loss: 0.8572\n",
      "Epoch 31/100\n",
      "\u001b[1m193/193\u001b[0m \u001b[32m━━━━━━━━━━━━━━━━━━━━\u001b[0m\u001b[37m\u001b[0m \u001b[1m503s\u001b[0m 3s/step - accuracy: 0.9646 - loss: 0.1043 - val_accuracy: 0.8877 - val_loss: 0.8994\n",
      "Epoch 32/100\n",
      "\u001b[1m193/193\u001b[0m \u001b[32m━━━━━━━━━━━━━━━━━━━━\u001b[0m\u001b[37m\u001b[0m \u001b[1m519s\u001b[0m 3s/step - accuracy: 0.9760 - loss: 0.0802 - val_accuracy: 0.8936 - val_loss: 0.9288\n",
      "Epoch 33/100\n",
      "\u001b[1m193/193\u001b[0m \u001b[32m━━━━━━━━━━━━━━━━━━━━\u001b[0m\u001b[37m\u001b[0m \u001b[1m531s\u001b[0m 3s/step - accuracy: 0.9747 - loss: 0.0871 - val_accuracy: 0.8995 - val_loss: 0.8701\n",
      "Epoch 34/100\n",
      "\u001b[1m193/193\u001b[0m \u001b[32m━━━━━━━━━━━━━━━━━━━━\u001b[0m\u001b[37m\u001b[0m \u001b[1m520s\u001b[0m 3s/step - accuracy: 0.9696 - loss: 0.1035 - val_accuracy: 0.8871 - val_loss: 0.8258\n",
      "Epoch 35/100\n",
      "\u001b[1m193/193\u001b[0m \u001b[32m━━━━━━━━━━━━━━━━━━━━\u001b[0m\u001b[37m\u001b[0m \u001b[1m514s\u001b[0m 3s/step - accuracy: 0.9621 - loss: 0.1250 - val_accuracy: 0.9008 - val_loss: 0.6775\n",
      "Epoch 36/100\n",
      "\u001b[1m193/193\u001b[0m \u001b[32m━━━━━━━━━━━━━━━━━━━━\u001b[0m\u001b[37m\u001b[0m \u001b[1m511s\u001b[0m 3s/step - accuracy: 0.9697 - loss: 0.0996 - val_accuracy: 0.8916 - val_loss: 0.7325\n",
      "Epoch 37/100\n",
      "\u001b[1m193/193\u001b[0m \u001b[32m━━━━━━━━━━━━━━━━━━━━\u001b[0m\u001b[37m\u001b[0m \u001b[1m516s\u001b[0m 3s/step - accuracy: 0.9754 - loss: 0.0651 - val_accuracy: 0.8995 - val_loss: 0.5690\n",
      "Epoch 38/100\n",
      "\u001b[1m193/193\u001b[0m \u001b[32m━━━━━━━━━━━━━━━━━━━━\u001b[0m\u001b[37m\u001b[0m \u001b[1m535s\u001b[0m 3s/step - accuracy: 0.9776 - loss: 0.0673 - val_accuracy: 0.8916 - val_loss: 0.8014\n",
      "Epoch 39/100\n",
      "\u001b[1m193/193\u001b[0m \u001b[32m━━━━━━━━━━━━━━━━━━━━\u001b[0m\u001b[37m\u001b[0m \u001b[1m533s\u001b[0m 3s/step - accuracy: 0.9686 - loss: 0.1115 - val_accuracy: 0.9119 - val_loss: 0.8047\n",
      "Epoch 40/100\n",
      "\u001b[1m193/193\u001b[0m \u001b[32m━━━━━━━━━━━━━━━━━━━━\u001b[0m\u001b[37m\u001b[0m \u001b[1m525s\u001b[0m 3s/step - accuracy: 0.9719 - loss: 0.0971 - val_accuracy: 0.9027 - val_loss: 0.7217\n",
      "Epoch 41/100\n",
      "\u001b[1m193/193\u001b[0m \u001b[32m━━━━━━━━━━━━━━━━━━━━\u001b[0m\u001b[37m\u001b[0m \u001b[1m532s\u001b[0m 3s/step - accuracy: 0.9788 - loss: 0.0750 - val_accuracy: 0.8995 - val_loss: 0.8589\n",
      "Epoch 42/100\n",
      "\u001b[1m193/193\u001b[0m \u001b[32m━━━━━━━━━━━━━━━━━━━━\u001b[0m\u001b[37m\u001b[0m \u001b[1m531s\u001b[0m 3s/step - accuracy: 0.9754 - loss: 0.0805 - val_accuracy: 0.9008 - val_loss: 0.6025\n",
      "Epoch 43/100\n",
      "\u001b[1m193/193\u001b[0m \u001b[32m━━━━━━━━━━━━━━━━━━━━\u001b[0m\u001b[37m\u001b[0m \u001b[1m536s\u001b[0m 3s/step - accuracy: 0.9740 - loss: 0.0986 - val_accuracy: 0.8832 - val_loss: 0.9759\n",
      "Epoch 44/100\n",
      "\u001b[1m193/193\u001b[0m \u001b[32m━━━━━━━━━━━━━━━━━━━━\u001b[0m\u001b[37m\u001b[0m \u001b[1m528s\u001b[0m 3s/step - accuracy: 0.9815 - loss: 0.0623 - val_accuracy: 0.8838 - val_loss: 0.8597\n",
      "Epoch 45/100\n",
      "\u001b[1m193/193\u001b[0m \u001b[32m━━━━━━━━━━━━━━━━━━━━\u001b[0m\u001b[37m\u001b[0m \u001b[1m511s\u001b[0m 3s/step - accuracy: 0.9685 - loss: 0.1096 - val_accuracy: 0.8819 - val_loss: 1.0687\n",
      "Epoch 46/100\n",
      "\u001b[1m193/193\u001b[0m \u001b[32m━━━━━━━━━━━━━━━━━━━━\u001b[0m\u001b[37m\u001b[0m \u001b[1m515s\u001b[0m 3s/step - accuracy: 0.9776 - loss: 0.0877 - val_accuracy: 0.9027 - val_loss: 0.8043\n",
      "Epoch 47/100\n",
      "\u001b[1m193/193\u001b[0m \u001b[32m━━━━━━━━━━━━━━━━━━━━\u001b[0m\u001b[37m\u001b[0m \u001b[1m529s\u001b[0m 3s/step - accuracy: 0.9805 - loss: 0.0604 - val_accuracy: 0.8943 - val_loss: 1.3298\n",
      "Epoch 48/100\n",
      "\u001b[1m193/193\u001b[0m \u001b[32m━━━━━━━━━━━━━━━━━━━━\u001b[0m\u001b[37m\u001b[0m \u001b[1m537s\u001b[0m 3s/step - accuracy: 0.9749 - loss: 0.0783 - val_accuracy: 0.8943 - val_loss: 1.0113\n",
      "Epoch 49/100\n",
      "\u001b[1m193/193\u001b[0m \u001b[32m━━━━━━━━━━━━━━━━━━━━\u001b[0m\u001b[37m\u001b[0m \u001b[1m533s\u001b[0m 3s/step - accuracy: 0.9818 - loss: 0.0534 - val_accuracy: 0.9008 - val_loss: 0.6554\n",
      "Epoch 50/100\n",
      "\u001b[1m193/193\u001b[0m \u001b[32m━━━━━━━━━━━━━━━━━━━━\u001b[0m\u001b[37m\u001b[0m \u001b[1m514s\u001b[0m 3s/step - accuracy: 0.9739 - loss: 0.0909 - val_accuracy: 0.8923 - val_loss: 0.7162\n",
      "Epoch 51/100\n",
      "\u001b[1m193/193\u001b[0m \u001b[32m━━━━━━━━━━━━━━━━━━━━\u001b[0m\u001b[37m\u001b[0m \u001b[1m523s\u001b[0m 3s/step - accuracy: 0.9713 - loss: 0.0919 - val_accuracy: 0.8884 - val_loss: 0.8194\n",
      "Epoch 52/100\n",
      "\u001b[1m193/193\u001b[0m \u001b[32m━━━━━━━━━━━━━━━━━━━━\u001b[0m\u001b[37m\u001b[0m \u001b[1m524s\u001b[0m 3s/step - accuracy: 0.9749 - loss: 0.0825 - val_accuracy: 0.8936 - val_loss: 0.8498\n",
      "Epoch 53/100\n",
      "\u001b[1m193/193\u001b[0m \u001b[32m━━━━━━━━━━━━━━━━━━━━\u001b[0m\u001b[37m\u001b[0m \u001b[1m526s\u001b[0m 3s/step - accuracy: 0.9791 - loss: 0.0661 - val_accuracy: 0.8903 - val_loss: 1.1051\n",
      "Epoch 54/100\n",
      "\u001b[1m193/193\u001b[0m \u001b[32m━━━━━━━━━━━━━━━━━━━━\u001b[0m\u001b[37m\u001b[0m \u001b[1m529s\u001b[0m 3s/step - accuracy: 0.9790 - loss: 0.0665 - val_accuracy: 0.8884 - val_loss: 1.0219\n",
      "Epoch 55/100\n",
      "\u001b[1m193/193\u001b[0m \u001b[32m━━━━━━━━━━━━━━━━━━━━\u001b[0m\u001b[37m\u001b[0m \u001b[1m511s\u001b[0m 3s/step - accuracy: 0.9781 - loss: 0.0733 - val_accuracy: 0.9086 - val_loss: 0.8052\n",
      "Epoch 56/100\n",
      "\u001b[1m193/193\u001b[0m \u001b[32m━━━━━━━━━━━━━━━━━━━━\u001b[0m\u001b[37m\u001b[0m \u001b[1m518s\u001b[0m 3s/step - accuracy: 0.9792 - loss: 0.0739 - val_accuracy: 0.8916 - val_loss: 0.8261\n",
      "Epoch 57/100\n",
      "\u001b[1m193/193\u001b[0m \u001b[32m━━━━━━━━━━━━━━━━━━━━\u001b[0m\u001b[37m\u001b[0m \u001b[1m526s\u001b[0m 3s/step - accuracy: 0.9782 - loss: 0.0783 - val_accuracy: 0.8995 - val_loss: 0.9189\n",
      "Epoch 58/100\n",
      "\u001b[1m193/193\u001b[0m \u001b[32m━━━━━━━━━━━━━━━━━━━━\u001b[0m\u001b[37m\u001b[0m \u001b[1m533s\u001b[0m 3s/step - accuracy: 0.9834 - loss: 0.0627 - val_accuracy: 0.9001 - val_loss: 0.7343\n",
      "Epoch 59/100\n",
      "\u001b[1m193/193\u001b[0m \u001b[32m━━━━━━━━━━━━━━━━━━━━\u001b[0m\u001b[37m\u001b[0m \u001b[1m532s\u001b[0m 3s/step - accuracy: 0.9841 - loss: 0.0498 - val_accuracy: 0.8982 - val_loss: 0.9136\n",
      "Epoch 60/100\n",
      "\u001b[1m193/193\u001b[0m \u001b[32m━━━━━━━━━━━━━━━━━━━━\u001b[0m\u001b[37m\u001b[0m \u001b[1m470s\u001b[0m 2s/step - accuracy: 0.9769 - loss: 0.0778 - val_accuracy: 0.9047 - val_loss: 0.8762\n",
      "Epoch 62/100\n",
      "\u001b[1m193/193\u001b[0m \u001b[32m━━━━━━━━━━━━━━━━━━━━\u001b[0m\u001b[37m\u001b[0m \u001b[1m521s\u001b[0m 3s/step - accuracy: 0.9752 - loss: 0.0756 - val_accuracy: 0.9073 - val_loss: 0.9784\n",
      "Epoch 63/100\n",
      "\u001b[1m193/193\u001b[0m \u001b[32m━━━━━━━━━━━━━━━━━━━━\u001b[0m\u001b[37m\u001b[0m \u001b[1m521s\u001b[0m 3s/step - accuracy: 0.9760 - loss: 0.0744 - val_accuracy: 0.8930 - val_loss: 0.9192\n",
      "Epoch 64/100\n",
      "\u001b[1m193/193\u001b[0m \u001b[32m━━━━━━━━━━━━━━━━━━━━\u001b[0m\u001b[37m\u001b[0m \u001b[1m509s\u001b[0m 3s/step - accuracy: 0.9748 - loss: 0.0851 - val_accuracy: 0.8845 - val_loss: 1.2024\n",
      "Epoch 65/100\n",
      "\u001b[1m193/193\u001b[0m \u001b[32m━━━━━━━━━━━━━━━━━━━━\u001b[0m\u001b[37m\u001b[0m \u001b[1m506s\u001b[0m 3s/step - accuracy: 0.9817 - loss: 0.0685 - val_accuracy: 0.9060 - val_loss: 1.0633\n",
      "Epoch 66/100\n",
      "\u001b[1m193/193\u001b[0m \u001b[32m━━━━━━━━━━━━━━━━━━━━\u001b[0m\u001b[37m\u001b[0m \u001b[1m508s\u001b[0m 3s/step - accuracy: 0.9785 - loss: 0.0706 - val_accuracy: 0.8923 - val_loss: 1.2165\n",
      "Epoch 67/100\n",
      "\u001b[1m193/193\u001b[0m \u001b[32m━━━━━━━━━━━━━━━━━━━━\u001b[0m\u001b[37m\u001b[0m \u001b[1m508s\u001b[0m 3s/step - accuracy: 0.9861 - loss: 0.0425 - val_accuracy: 0.9040 - val_loss: 0.9334\n",
      "Epoch 68/100\n",
      "\u001b[1m193/193\u001b[0m \u001b[32m━━━━━━━━━━━━━━━━━━━━\u001b[0m\u001b[37m\u001b[0m \u001b[1m509s\u001b[0m 3s/step - accuracy: 0.9854 - loss: 0.0524 - val_accuracy: 0.9099 - val_loss: 1.0082\n",
      "Epoch 69/100\n",
      "\u001b[1m193/193\u001b[0m \u001b[32m━━━━━━━━━━━━━━━━━━━━\u001b[0m\u001b[37m\u001b[0m \u001b[1m470s\u001b[0m 2s/step - accuracy: 0.9832 - loss: 0.0520 - val_accuracy: 0.8975 - val_loss: 1.1178\n",
      "Epoch 70/100\n",
      "\u001b[1m193/193\u001b[0m \u001b[32m━━━━━━━━━━━━━━━━━━━━\u001b[0m\u001b[37m\u001b[0m \u001b[1m495s\u001b[0m 3s/step - accuracy: 0.9773 - loss: 0.0765 - val_accuracy: 0.8890 - val_loss: 1.1439\n",
      "Epoch 71/100\n",
      "\u001b[1m193/193\u001b[0m \u001b[32m━━━━━━━━━━━━━━━━━━━━\u001b[0m\u001b[37m\u001b[0m \u001b[1m487s\u001b[0m 2s/step - accuracy: 0.9800 - loss: 0.0727 - val_accuracy: 0.8930 - val_loss: 1.2954\n",
      "Epoch 72/100\n",
      "\u001b[1m193/193\u001b[0m \u001b[32m━━━━━━━━━━━━━━━━━━━━\u001b[0m\u001b[37m\u001b[0m \u001b[1m530s\u001b[0m 3s/step - accuracy: 0.9756 - loss: 0.0928 - val_accuracy: 0.9080 - val_loss: 0.9318\n",
      "Epoch 73/100\n",
      "\u001b[1m193/193\u001b[0m \u001b[32m━━━━━━━━━━━━━━━━━━━━\u001b[0m\u001b[37m\u001b[0m \u001b[1m522s\u001b[0m 3s/step - accuracy: 0.9793 - loss: 0.0646 - val_accuracy: 0.9021 - val_loss: 1.2225\n",
      "Epoch 74/100\n",
      "\u001b[1m193/193\u001b[0m \u001b[32m━━━━━━━━━━━━━━━━━━━━\u001b[0m\u001b[37m\u001b[0m \u001b[1m496s\u001b[0m 3s/step - accuracy: 0.9860 - loss: 0.0659 - val_accuracy: 0.9034 - val_loss: 1.0282\n",
      "Epoch 75/100\n",
      "\u001b[1m193/193\u001b[0m \u001b[32m━━━━━━━━━━━━━━━━━━━━\u001b[0m\u001b[37m\u001b[0m \u001b[1m513s\u001b[0m 3s/step - accuracy: 0.9852 - loss: 0.0496 - val_accuracy: 0.8910 - val_loss: 0.9228\n",
      "Epoch 76/100\n",
      "\u001b[1m193/193\u001b[0m \u001b[32m━━━━━━━━━━━━━━━━━━━━\u001b[0m\u001b[37m\u001b[0m \u001b[1m512s\u001b[0m 3s/step - accuracy: 0.9756 - loss: 0.0696 - val_accuracy: 0.9099 - val_loss: 1.0883\n",
      "Epoch 77/100\n",
      "\u001b[1m193/193\u001b[0m \u001b[32m━━━━━━━━━━━━━━━━━━━━\u001b[0m\u001b[37m\u001b[0m \u001b[1m522s\u001b[0m 3s/step - accuracy: 0.9833 - loss: 0.0541 - val_accuracy: 0.9008 - val_loss: 1.1720\n",
      "Epoch 78/100\n",
      "\u001b[1m193/193\u001b[0m \u001b[32m━━━━━━━━━━━━━━━━━━━━\u001b[0m\u001b[37m\u001b[0m \u001b[1m526s\u001b[0m 3s/step - accuracy: 0.9834 - loss: 0.0528 - val_accuracy: 0.9034 - val_loss: 1.0045\n",
      "Epoch 79/100\n",
      "\u001b[1m193/193\u001b[0m \u001b[32m━━━━━━━━━━━━━━━━━━━━\u001b[0m\u001b[37m\u001b[0m \u001b[1m511s\u001b[0m 3s/step - accuracy: 0.9850 - loss: 0.0457 - val_accuracy: 0.8982 - val_loss: 1.1827\n",
      "Epoch 80/100\n",
      "\u001b[1m193/193\u001b[0m \u001b[32m━━━━━━━━━━━━━━━━━━━━\u001b[0m\u001b[37m\u001b[0m \u001b[1m521s\u001b[0m 3s/step - accuracy: 0.9845 - loss: 0.0572 - val_accuracy: 0.8956 - val_loss: 0.9937\n",
      "Epoch 81/100\n",
      "\u001b[1m193/193\u001b[0m \u001b[32m━━━━━━━━━━━━━━━━━━━━\u001b[0m\u001b[37m\u001b[0m \u001b[1m533s\u001b[0m 3s/step - accuracy: 0.9816 - loss: 0.0619 - val_accuracy: 0.8982 - val_loss: 1.2153\n",
      "Epoch 82/100\n",
      "\u001b[1m193/193\u001b[0m \u001b[32m━━━━━━━━━━━━━━━━━━━━\u001b[0m\u001b[37m\u001b[0m \u001b[1m530s\u001b[0m 3s/step - accuracy: 0.9845 - loss: 0.0432 - val_accuracy: 0.9060 - val_loss: 1.2176\n",
      "Epoch 83/100\n",
      "\u001b[1m193/193\u001b[0m \u001b[32m━━━━━━━━━━━━━━━━━━━━\u001b[0m\u001b[37m\u001b[0m \u001b[1m513s\u001b[0m 3s/step - accuracy: 0.9773 - loss: 0.0812 - val_accuracy: 0.8923 - val_loss: 1.1883\n",
      "Epoch 84/100\n",
      "\u001b[1m193/193\u001b[0m \u001b[32m━━━━━━━━━━━━━━━━━━━━\u001b[0m\u001b[37m\u001b[0m \u001b[1m515s\u001b[0m 3s/step - accuracy: 0.9819 - loss: 0.0719 - val_accuracy: 0.8969 - val_loss: 1.1330\n",
      "Epoch 85/100\n",
      "\u001b[1m193/193\u001b[0m \u001b[32m━━━━━━━━━━━━━━━━━━━━\u001b[0m\u001b[37m\u001b[0m \u001b[1m517s\u001b[0m 3s/step - accuracy: 0.9863 - loss: 0.0466 - val_accuracy: 0.9060 - val_loss: 1.2166\n",
      "Epoch 86/100\n",
      "\u001b[1m193/193\u001b[0m \u001b[32m━━━━━━━━━━━━━━━━━━━━\u001b[0m\u001b[37m\u001b[0m \u001b[1m597s\u001b[0m 3s/step - accuracy: 0.9829 - loss: 0.0538 - val_accuracy: 0.8936 - val_loss: 1.0138\n",
      "Epoch 87/100\n",
      "\u001b[1m193/193\u001b[0m \u001b[32m━━━━━━━━━━━━━━━━━━━━\u001b[0m\u001b[37m\u001b[0m \u001b[1m531s\u001b[0m 3s/step - accuracy: 0.9860 - loss: 0.0591 - val_accuracy: 0.8969 - val_loss: 1.3553\n",
      "Epoch 88/100\n",
      "\u001b[1m193/193\u001b[0m \u001b[32m━━━━━━━━━━━━━━━━━━━━\u001b[0m\u001b[37m\u001b[0m \u001b[1m519s\u001b[0m 3s/step - accuracy: 0.9855 - loss: 0.0552 - val_accuracy: 0.9008 - val_loss: 0.9840\n",
      "Epoch 89/100\n",
      "\u001b[1m193/193\u001b[0m \u001b[32m━━━━━━━━━━━━━━━━━━━━\u001b[0m\u001b[37m\u001b[0m \u001b[1m491s\u001b[0m 3s/step - accuracy: 0.9832 - loss: 0.0559 - val_accuracy: 0.9145 - val_loss: 0.8660\n",
      "Epoch 90/100\n",
      "\u001b[1m193/193\u001b[0m \u001b[32m━━━━━━━━━━━━━━━━━━━━\u001b[0m\u001b[37m\u001b[0m \u001b[1m503s\u001b[0m 3s/step - accuracy: 0.9823 - loss: 0.0574 - val_accuracy: 0.8943 - val_loss: 1.1261\n",
      "Epoch 91/100\n",
      "\u001b[1m193/193\u001b[0m \u001b[32m━━━━━━━━━━━━━━━━━━━━\u001b[0m\u001b[37m\u001b[0m \u001b[1m500s\u001b[0m 3s/step - accuracy: 0.9825 - loss: 0.0689 - val_accuracy: 0.9047 - val_loss: 1.1695\n",
      "Epoch 92/100\n",
      "\u001b[1m193/193\u001b[0m \u001b[32m━━━━━━━━━━━━━━━━━━━━\u001b[0m\u001b[37m\u001b[0m \u001b[1m519s\u001b[0m 3s/step - accuracy: 0.9724 - loss: 0.1124 - val_accuracy: 0.8995 - val_loss: 1.1357\n",
      "Epoch 93/100\n",
      "\u001b[1m193/193\u001b[0m \u001b[32m━━━━━━━━━━━━━━━━━━━━\u001b[0m\u001b[37m\u001b[0m \u001b[1m525s\u001b[0m 3s/step - accuracy: 0.9860 - loss: 0.0461 - val_accuracy: 0.9067 - val_loss: 1.2073\n",
      "Epoch 94/100\n",
      "\u001b[1m193/193\u001b[0m \u001b[32m━━━━━━━━━━━━━━━━━━━━\u001b[0m\u001b[37m\u001b[0m \u001b[1m503s\u001b[0m 3s/step - accuracy: 0.9859 - loss: 0.0586 - val_accuracy: 0.9093 - val_loss: 1.0331\n",
      "Epoch 95/100\n",
      "\u001b[1m193/193\u001b[0m \u001b[32m━━━━━━━━━━━━━━━━━━━━\u001b[0m\u001b[37m\u001b[0m \u001b[1m520s\u001b[0m 3s/step - accuracy: 0.9846 - loss: 0.0523 - val_accuracy: 0.9021 - val_loss: 0.9535\n",
      "Epoch 96/100\n",
      "\u001b[1m193/193\u001b[0m \u001b[32m━━━━━━━━━━━━━━━━━━━━\u001b[0m\u001b[37m\u001b[0m \u001b[1m500s\u001b[0m 3s/step - accuracy: 0.9816 - loss: 0.0770 - val_accuracy: 0.8962 - val_loss: 1.2740\n",
      "Epoch 97/100\n",
      "\u001b[1m193/193\u001b[0m \u001b[32m━━━━━━━━━━━━━━━━━━━━\u001b[0m\u001b[37m\u001b[0m \u001b[1m522s\u001b[0m 3s/step - accuracy: 0.9819 - loss: 0.0521 - val_accuracy: 0.9014 - val_loss: 1.3381\n",
      "Epoch 98/100\n",
      "\u001b[1m193/193\u001b[0m \u001b[32m━━━━━━━━━━━━━━━━━━━━\u001b[0m\u001b[37m\u001b[0m \u001b[1m523s\u001b[0m 3s/step - accuracy: 0.9842 - loss: 0.0548 - val_accuracy: 0.9008 - val_loss: 1.4188\n",
      "Epoch 99/100\n",
      "\u001b[1m193/193\u001b[0m \u001b[32m━━━━━━━━━━━━━━━━━━━━\u001b[0m\u001b[37m\u001b[0m \u001b[1m535s\u001b[0m 3s/step - accuracy: 0.9837 - loss: 0.0586 - val_accuracy: 0.8936 - val_loss: 1.3663\n",
      "Epoch 100/100\n",
      "\u001b[1m193/193\u001b[0m \u001b[32m━━━━━━━━━━━━━━━━━━━━\u001b[0m\u001b[37m\u001b[0m \u001b[1m588s\u001b[0m 3s/step - accuracy: 0.9790 - loss: 0.0769 - val_accuracy: 0.9054 - val_loss: 1.1402\n"
     ]
    }
   ],
   "source": [
    "with tf.device('/GPU:0'):\n",
    "    history = model.fit(\n",
    "        train_generator,\n",
    "        epochs=100,  # You can adjust the number of epochs\n",
    "        validation_data=validation_generator\n",
    "    )"
   ]
  },
  {
   "cell_type": "code",
   "execution_count": 10,
   "id": "b6b22c88-856d-4463-a0ae-b555211a672a",
   "metadata": {},
   "outputs": [
    {
     "name": "stdout",
     "output_type": "stream",
     "text": [
      "\u001b[1m48/48\u001b[0m \u001b[32m━━━━━━━━━━━━━━━━━━━━\u001b[0m\u001b[37m\u001b[0m \u001b[1m96s\u001b[0m 2s/step - accuracy: 0.8997 - loss: 1.0527\n",
      "Validation Accuracy: 0.90\n"
     ]
    }
   ],
   "source": [
    "val_loss, val_accuracy = model.evaluate(validation_generator)\n",
    "print(f'Validation Accuracy: {val_accuracy:.2f}')"
   ]
  },
  {
   "cell_type": "code",
   "execution_count": null,
   "id": "b096b3ea-96ea-4317-85b1-cd5d3b461147",
   "metadata": {},
   "outputs": [],
   "source": [
    "import pandas as pd"
   ]
  },
  {
   "cell_type": "code",
   "execution_count": null,
   "id": "c7f6a3bf-0860-4236-9b74-3c43138efa92",
   "metadata": {},
   "outputs": [
    {
     "data": {
      "text/html": [
       "<div>\n",
       "<style scoped>\n",
       "    .dataframe tbody tr th:only-of-type {\n",
       "        vertical-align: middle;\n",
       "    }\n",
       "\n",
       "    .dataframe tbody tr th {\n",
       "        vertical-align: top;\n",
       "    }\n",
       "\n",
       "    .dataframe thead th {\n",
       "        text-align: right;\n",
       "    }\n",
       "</style>\n",
       "<table border=\"1\" class=\"dataframe\">\n",
       "  <thead>\n",
       "    <tr style=\"text-align: right;\">\n",
       "      <th></th>\n",
       "      <th>District</th>\n",
       "      <th>Soil Type</th>\n",
       "      <th>pH Level</th>\n",
       "      <th>Organic Matter (%)</th>\n",
       "      <th>Nitrogen Content (kg/ha)</th>\n",
       "      <th>Phosphorus Content (kg/ha)</th>\n",
       "      <th>Potassium Content (kg/ha)</th>\n",
       "    </tr>\n",
       "  </thead>\n",
       "  <tbody>\n",
       "    <tr>\n",
       "      <th>0</th>\n",
       "      <td>West District</td>\n",
       "      <td>Alluvial</td>\n",
       "      <td>6.17</td>\n",
       "      <td>2.05</td>\n",
       "      <td>34.42</td>\n",
       "      <td>15.20</td>\n",
       "      <td>23.81</td>\n",
       "    </tr>\n",
       "    <tr>\n",
       "      <th>1</th>\n",
       "      <td>North District</td>\n",
       "      <td>Alluvial</td>\n",
       "      <td>7.42</td>\n",
       "      <td>1.56</td>\n",
       "      <td>43.19</td>\n",
       "      <td>10.24</td>\n",
       "      <td>18.71</td>\n",
       "    </tr>\n",
       "    <tr>\n",
       "      <th>2</th>\n",
       "      <td>South District</td>\n",
       "      <td>Alluvial</td>\n",
       "      <td>7.26</td>\n",
       "      <td>2.90</td>\n",
       "      <td>41.89</td>\n",
       "      <td>10.44</td>\n",
       "      <td>22.79</td>\n",
       "    </tr>\n",
       "    <tr>\n",
       "      <th>3</th>\n",
       "      <td>West District</td>\n",
       "      <td>Loamy</td>\n",
       "      <td>6.92</td>\n",
       "      <td>2.50</td>\n",
       "      <td>40.58</td>\n",
       "      <td>15.49</td>\n",
       "      <td>20.07</td>\n",
       "    </tr>\n",
       "    <tr>\n",
       "      <th>4</th>\n",
       "      <td>South District</td>\n",
       "      <td>Loamy</td>\n",
       "      <td>7.26</td>\n",
       "      <td>2.86</td>\n",
       "      <td>42.98</td>\n",
       "      <td>15.13</td>\n",
       "      <td>21.37</td>\n",
       "    </tr>\n",
       "    <tr>\n",
       "      <th>5</th>\n",
       "      <td>South District</td>\n",
       "      <td>Alluvial</td>\n",
       "      <td>6.88</td>\n",
       "      <td>2.67</td>\n",
       "      <td>42.24</td>\n",
       "      <td>14.98</td>\n",
       "      <td>23.44</td>\n",
       "    </tr>\n",
       "    <tr>\n",
       "      <th>6</th>\n",
       "      <td>East District</td>\n",
       "      <td>Alluvial</td>\n",
       "      <td>6.29</td>\n",
       "      <td>2.65</td>\n",
       "      <td>43.01</td>\n",
       "      <td>16.31</td>\n",
       "      <td>23.47</td>\n",
       "    </tr>\n",
       "    <tr>\n",
       "      <th>7</th>\n",
       "      <td>West District</td>\n",
       "      <td>Clayey</td>\n",
       "      <td>7.40</td>\n",
       "      <td>2.89</td>\n",
       "      <td>42.90</td>\n",
       "      <td>14.27</td>\n",
       "      <td>23.37</td>\n",
       "    </tr>\n",
       "    <tr>\n",
       "      <th>8</th>\n",
       "      <td>East District</td>\n",
       "      <td>Clayey</td>\n",
       "      <td>6.84</td>\n",
       "      <td>1.94</td>\n",
       "      <td>40.25</td>\n",
       "      <td>16.00</td>\n",
       "      <td>23.43</td>\n",
       "    </tr>\n",
       "    <tr>\n",
       "      <th>9</th>\n",
       "      <td>East District</td>\n",
       "      <td>Sandy</td>\n",
       "      <td>6.57</td>\n",
       "      <td>2.17</td>\n",
       "      <td>37.00</td>\n",
       "      <td>15.25</td>\n",
       "      <td>22.48</td>\n",
       "    </tr>\n",
       "  </tbody>\n",
       "</table>\n",
       "</div>"
      ],
      "text/plain": [
       "         District Soil Type  pH Level  Organic Matter (%)  \\\n",
       "0   West District  Alluvial      6.17                2.05   \n",
       "1  North District  Alluvial      7.42                1.56   \n",
       "2  South District  Alluvial      7.26                2.90   \n",
       "3   West District     Loamy      6.92                2.50   \n",
       "4  South District     Loamy      7.26                2.86   \n",
       "5  South District  Alluvial      6.88                2.67   \n",
       "6   East District  Alluvial      6.29                2.65   \n",
       "7   West District    Clayey      7.40                2.89   \n",
       "8   East District    Clayey      6.84                1.94   \n",
       "9   East District     Sandy      6.57                2.17   \n",
       "\n",
       "   Nitrogen Content (kg/ha)  Phosphorus Content (kg/ha)  \\\n",
       "0                     34.42                       15.20   \n",
       "1                     43.19                       10.24   \n",
       "2                     41.89                       10.44   \n",
       "3                     40.58                       15.49   \n",
       "4                     42.98                       15.13   \n",
       "5                     42.24                       14.98   \n",
       "6                     43.01                       16.31   \n",
       "7                     42.90                       14.27   \n",
       "8                     40.25                       16.00   \n",
       "9                     37.00                       15.25   \n",
       "\n",
       "   Potassium Content (kg/ha)  \n",
       "0                      23.81  \n",
       "1                      18.71  \n",
       "2                      22.79  \n",
       "3                      20.07  \n",
       "4                      21.37  \n",
       "5                      23.44  \n",
       "6                      23.47  \n",
       "7                      23.37  \n",
       "8                      23.43  \n",
       "9                      22.48  "
      ]
     },
     "execution_count": 12,
     "metadata": {},
     "output_type": "execute_result"
    }
   ],
   "source": [
    "df = pd.read_csv(\"crop_production_dataset_content.csv\")\n",
    "df.head(10)"
   ]
  },
  {
   "cell_type": "code",
   "execution_count": null,
   "id": "e72e0c1f-7941-4720-b558-0aca0af44ad1",
   "metadata": {},
   "outputs": [
    {
     "name": "stdout",
     "output_type": "stream",
     "text": [
      "\u001b[1m1/1\u001b[0m \u001b[32m━━━━━━━━━━━━━━━━━━━━\u001b[0m\u001b[37m\u001b[0m \u001b[1m7s\u001b[0m 7s/step\n"
     ]
    },
    {
     "name": "stderr",
     "output_type": "stream",
     "text": [
      "WARNING:absl:You are saving your model as an HDF5 file via `model.save()` or `keras.saving.save_model(model)`. This file format is considered legacy. We recommend using instead the native Keras format, e.g. `model.save('my_model.keras')` or `keras.saving.save_model(model, 'my_model.keras')`. \n"
     ]
    },
    {
     "name": "stdout",
     "output_type": "stream",
     "text": [
      "Predicted Class: Alluvial soil\n",
      "Prediction Probabilities: [1.00000000e+00 7.29007466e-10 1.40449465e-08 1.15692531e-18\n",
      " 4.83362406e-10 1.62596076e-12 5.52065511e-22 2.01296181e-24]\n"
     ]
    }
   ],
   "source": [
    "from tensorflow.keras.preprocessing import image\n",
    "import numpy as np\n",
    "\n",
    "def preprocess_image(img_path):\n",
    "    img = image.load_img(img_path, target_size=(224, 224))  # Resize image to match model's input size\n",
    "    img_array = image.img_to_array(img)\n",
    "    img_array = np.expand_dims(img_array, axis=0)  # Add batch dimension\n",
    "    img_array /= 255.0  # Rescale to match training data normalization\n",
    "    return img_array\n",
    "\n",
    "def classify_image(model, img_path, class_indices):\n",
    "    img_array = preprocess_image(img_path)\n",
    "    predictions = model.predict(img_array)\n",
    "    predicted_class = np.argmax(predictions, axis=1)[0]\n",
    "    class_label = {v: k for k, v in class_indices.items()}[predicted_class]  # Convert index to class name\n",
    "    return class_label, predictions[0]\n",
    "\n",
    "img_path = 's.jpg'\n",
    "class_indices = train_generator.class_indices  # Mapping of classes to indices\n",
    "class_label, prediction = classify_image(model, img_path, class_indices)\n",
    "\n",
    "print(f\"Predicted Class: {class_label}\")\n",
    "print(\"Prediction Probabilities:\", prediction)\n",
    "\n",
    "model.save('cnn_saved_model.h5')"
   ]
  },
  {
   "cell_type": "code",
   "execution_count": null,
   "id": "5e0f84e6-ca4f-481e-a77c-aa7fa6732901",
   "metadata": {
    "scrolled": true
   },
   "outputs": [
    {
     "name": "stdout",
     "output_type": "stream",
     "text": [
      "\u001b[1m193/193\u001b[0m \u001b[32m━━━━━━━━━━━━━━━━━━━━\u001b[0m\u001b[37m\u001b[0m \u001b[1m418s\u001b[0m 2s/step\n"
     ]
    },
    {
     "data": {
      "image/png": "[encoded data removed]",
      "text/plain": [
       "<Figure size 1000x800 with 2 Axes>"
      ]
     },
     "metadata": {},
     "output_type": "display_data"
    },
    {
     "name": "stdout",
     "output_type": "stream",
     "text": [
      "Classification Report:\n",
      "              precision    recall  f1-score   support\n",
      "\n",
      "           0       0.03      0.03      0.03       243\n",
      "           1       0.40      0.40      0.40      2470\n",
      "           2       0.04      0.04      0.04       242\n",
      "           3       0.16      0.16      0.16      1107\n",
      "           4       0.08      0.08      0.08       403\n",
      "           5       0.03      0.03      0.03       250\n",
      "           6       0.06      0.06      0.06       461\n",
      "           7       0.17      0.17      0.17       970\n",
      "\n",
      "    accuracy                           0.23      6146\n",
      "   macro avg       0.12      0.12      0.12      6146\n",
      "weighted avg       0.23      0.23      0.23      6146\n",
      "\n"
     ]
    }
   ],
   "source": [
    "import numpy as np\n",
    "from sklearn.metrics import confusion_matrix, classification_report\n",
    "import seaborn as sns\n",
    "import matplotlib.pyplot as plt\n",
    "\n",
    "# Assume `model` is your trained model and `test_generator` is the data generator for the test set\n",
    "# 1. Predict the labels on the test set\n",
    "y_pred = model.predict(train_generator)\n",
    "y_pred_classes = np.argmax(y_pred, axis=1)  # Convert predictions to class indices\n",
    "y_true = train_generator.classes  # True labels from the test generator\n",
    "\n",
    "# 2. Generate confusion matrix\n",
    "conf_matrix = confusion_matrix(y_true, y_pred_classes)\n",
    "\n",
    "# 3. Visualize the confusion matrix\n",
    "plt.figure(figsize=(10, 8))\n",
    "sns.heatmap(conf_matrix, annot=True, fmt=\"d\", cmap=\"Blues\", xticklabels=train_generator.class_indices.keys(), yticklabels=train_generator.class_indices.keys())\n",
    "plt.xlabel(\"Predicted Label\")\n",
    "plt.ylabel(\"True Label\")\n",
    "plt.title(\"Confusion Matrix\")\n",
    "plt.show()\n",
    "\n",
    "# 4. Print classification report\n",
    "print(\"Classification Report:\")\n",
    "print(classification_report(y_true, y_pred_classes))"
   ]
  },
  {
   "cell_type": "code",
   "execution_count": 1,
   "id": "c9b955c3-513c-403b-b7df-1e93f521af32",
   "metadata": {},
   "outputs": [
    {
     "ename": "NameError",
     "evalue": "name 'model' is not defined",
     "output_type": "error",
     "traceback": [
      "\u001b[1;31m---------------------------------------------------------------------------\u001b[0m",
      "\u001b[1;31mNameError\u001b[0m                                 Traceback (most recent call last)",
      "Cell \u001b[1;32mIn[1], line 1\u001b[0m\n\u001b[1;32m----> 1\u001b[0m \u001b[43mmodel\u001b[49m\u001b[38;5;241m.\u001b[39msave(\u001b[38;5;124m'\u001b[39m\u001b[38;5;124mcnn_saved_model_tf\u001b[39m\u001b[38;5;124m'\u001b[39m, save_format\u001b[38;5;241m=\u001b[39m\u001b[38;5;124m'\u001b[39m\u001b[38;5;124mtf\u001b[39m\u001b[38;5;124m'\u001b[39m)\n",
      "\u001b[1;31mNameError\u001b[0m: name 'model' is not defined"
     ]
    }
   ],
   "source": [
    "model.save('cnn_saved_model_tf', save_format='tf')"
   ]
  },
  {
   "cell_type": "code",
   "execution_count": null,
   "id": "1d1faf6e-37e0-4cd0-a1ca-a0035b4109a4",
   "metadata": {},
   "outputs": [],
   "source": []
  }
 ],
 "metadata": {
  "kernelspec": {
   "display_name": "Python 3 (ipykernel)",
   "language": "python",
   "name": "python3"
  },
  "language_info": {
   "codemirror_mode": {
    "name": "ipython",
    "version": 3
   },
   "file_extension": ".py",
   "mimetype": "text/x-python",
   "name": "python",
   "nbconvert_exporter": "python",
   "pygments_lexer": "ipython3",
   "version": "3.12.6"
  }
 },
 "nbformat": 4,
 "nbformat_minor": 5
}
